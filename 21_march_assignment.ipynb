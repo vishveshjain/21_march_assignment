{
 "cells": [
  {
   "cell_type": "markdown",
   "metadata": {},
   "source": [
    "## Data Science Masters - Hindi - 21 Mar 2023"
   ]
  },
  {
   "attachments": {},
   "cell_type": "markdown",
   "metadata": {},
   "source": [
    "#### Q1. What is the difference between Ordinal Encoding and Label Encoding? Provide an example of when you might choose one over the other."
   ]
  },
  {
   "attachments": {},
   "cell_type": "markdown",
   "metadata": {},
   "source": [
    "- Ordinal encoding and label encoding are two common methods for encoding categorical variables into numerical values.\n",
    "#\n",
    "- Ordinal encoding\n",
    "    - It is a technique where the categories of a categorical variable are assigned integers based on their order or rank.\n",
    "    - Example\n",
    "        - If we have a categorical variable \"Size\" with categories \"Small\", \"Medium\" and \"Large\", we might assign the values 1, 2 and 3 respectively to represent their relative order.\n",
    "#\n",
    "- Label encoding\n",
    "    - It is a technique where the categories of a categorical variable are assigned a unique integer value.\n",
    "    - Example\n",
    "        - If we have a categorical variable \"Color\" with categories \"Red\", \"Green\" and \"Blue\", we might assign the values 1, 2 and 3 respectively to each category.\n",
    "#\n",
    "- One major difference between the two encoding methods is that ordinal encoding considers the order of the categories, while label encoding does not.\n",
    "- Therefore, ordinal encoding is suitable for variables with a clear order or ranking, such as \"Size\" or \"Grade\", while label encoding is appropriate for variables without any intrinsic order, such as \"Color\" or \"Gender\".\n",
    "#\n",
    "- Example\n",
    "    - If we have a dataset of students with their grades in different subjects, we can use ordinal encoding to represent the grades from \"A\" to \"F\" as 1 to 6 respectively.\n",
    "    - If we have a dataset of animals with their colors, we can use label encoding to represent the colors as 1 for \"Red\", 2 for \"Green\", and 3 for \"Blue\"."
   ]
  },
  {
   "attachments": {},
   "cell_type": "markdown",
   "metadata": {},
   "source": [
    "#### Q2. Explain how Target Guided Ordinal Encoding works and provide an example of when you might use it in a machine learning project."
   ]
  },
  {
   "attachments": {},
   "cell_type": "markdown",
   "metadata": {},
   "source": [
    "- Target guided ordinal encoding is a method of encoding categorical variables that combines the ideas of target encoding and ordinal encoding.\n",
    "- It involves encoding the categories of a categorical variable based on the mean of the target variable for each category, and then assigning an integer value to each category based on their order or rank.\n",
    "#\n",
    "- The process involves the following steps:\n",
    "    1. Group the data by the categorical variable and calculate the mean of the target variable for each category.\n",
    "    2. Sort the categories based on the mean of the target variable in ascending or descending order.\n",
    "    3. Assign an integer value to each category based on their rank.\n",
    "    4. Replace the original categorical variable with the encoded variable.\n",
    "#\n",
    "- Example\n",
    "    - Consider a dataset of credit card applications, where we want to predict whether an applicant will default on their payments or not. One of the categorical variables is \"Education\", with categories \"High School\", \"College\", \"Graduate\", and \"Post-graduate\". We can use target guided ordinal encoding to encode the variables."
   ]
  },
  {
   "attachments": {},
   "cell_type": "markdown",
   "metadata": {},
   "source": [
    "\n",
    "#### Q3. Define covariance and explain why it is important in statistical analysis. How is covariance calculated?"
   ]
  },
  {
   "attachments": {},
   "cell_type": "markdown",
   "metadata": {},
   "source": [
    "- Covariance is a measure of the relationship between two random variables.\n",
    "- It describes the degree to which the two variables move together or apart from their expected values. More specifically, covariance measures how much two variables change together or in opposite directions.\n",
    "- A positive covariance indicates that the two variables tend to increase or decrease together, while a negative covariance indicates that they tend to change in opposite directions.\n",
    "#\n",
    "- Covariance is an important concept in statistical analysis because it helps to understand the relationship between two variables.\n",
    "- Example\n",
    "    - If we are trying to predict the price of a house based on its size, we would want to know whether there is a positive or negative relationship between these two variables.\n",
    "    - By calculating the covariance, we can see if the two variables move together or in opposite directions, which can help us to make more accurate predictions.\n",
    "#\n",
    "- Covariance is calculated as follows:\n",
    "    - cov(X,Y) = E[(X-E[X])(Y-E[Y])]\n",
    "        - where\n",
    "            - X and Y are the two random variables\n",
    "            - E[X] and E[Y] are their expected values\n",
    "            - cov(X,Y) is the covariance between them."
   ]
  },
  {
   "attachments": {},
   "cell_type": "markdown",
   "metadata": {},
   "source": [
    "#### Q4. For a dataset with the following categorical variables: Color (red, green, blue), Size (small, medium, large), and Material (wood, metal, plastic), perform label encoding using Python's scikit-learn library. Show your code and explain the output."
   ]
  },
  {
   "cell_type": "code",
   "execution_count": 1,
   "metadata": {},
   "outputs": [
    {
     "data": {
      "text/html": [
       "<div>\n",
       "<style scoped>\n",
       "    .dataframe tbody tr th:only-of-type {\n",
       "        vertical-align: middle;\n",
       "    }\n",
       "\n",
       "    .dataframe tbody tr th {\n",
       "        vertical-align: top;\n",
       "    }\n",
       "\n",
       "    .dataframe thead th {\n",
       "        text-align: right;\n",
       "    }\n",
       "</style>\n",
       "<table border=\"1\" class=\"dataframe\">\n",
       "  <thead>\n",
       "    <tr style=\"text-align: right;\">\n",
       "      <th></th>\n",
       "      <th>Color</th>\n",
       "      <th>Size</th>\n",
       "      <th>Material</th>\n",
       "      <th>Color_encoded</th>\n",
       "      <th>Size_encoded</th>\n",
       "      <th>Material_encoded</th>\n",
       "    </tr>\n",
       "  </thead>\n",
       "  <tbody>\n",
       "    <tr>\n",
       "      <th>0</th>\n",
       "      <td>red</td>\n",
       "      <td>small</td>\n",
       "      <td>wood</td>\n",
       "      <td>2</td>\n",
       "      <td>2</td>\n",
       "      <td>2</td>\n",
       "    </tr>\n",
       "    <tr>\n",
       "      <th>1</th>\n",
       "      <td>green</td>\n",
       "      <td>medium</td>\n",
       "      <td>metal</td>\n",
       "      <td>1</td>\n",
       "      <td>1</td>\n",
       "      <td>0</td>\n",
       "    </tr>\n",
       "    <tr>\n",
       "      <th>2</th>\n",
       "      <td>blue</td>\n",
       "      <td>large</td>\n",
       "      <td>plastic</td>\n",
       "      <td>0</td>\n",
       "      <td>0</td>\n",
       "      <td>1</td>\n",
       "    </tr>\n",
       "    <tr>\n",
       "      <th>3</th>\n",
       "      <td>red</td>\n",
       "      <td>small</td>\n",
       "      <td>wood</td>\n",
       "      <td>2</td>\n",
       "      <td>2</td>\n",
       "      <td>2</td>\n",
       "    </tr>\n",
       "    <tr>\n",
       "      <th>4</th>\n",
       "      <td>green</td>\n",
       "      <td>medium</td>\n",
       "      <td>metal</td>\n",
       "      <td>1</td>\n",
       "      <td>1</td>\n",
       "      <td>0</td>\n",
       "    </tr>\n",
       "    <tr>\n",
       "      <th>5</th>\n",
       "      <td>blue</td>\n",
       "      <td>large</td>\n",
       "      <td>plastic</td>\n",
       "      <td>0</td>\n",
       "      <td>0</td>\n",
       "      <td>1</td>\n",
       "    </tr>\n",
       "  </tbody>\n",
       "</table>\n",
       "</div>"
      ],
      "text/plain": [
       "   Color    Size Material  Color_encoded  Size_encoded  Material_encoded\n",
       "0    red   small     wood              2             2                 2\n",
       "1  green  medium    metal              1             1                 0\n",
       "2   blue   large  plastic              0             0                 1\n",
       "3    red   small     wood              2             2                 2\n",
       "4  green  medium    metal              1             1                 0\n",
       "5   blue   large  plastic              0             0                 1"
      ]
     },
     "execution_count": 1,
     "metadata": {},
     "output_type": "execute_result"
    }
   ],
   "source": [
    "from sklearn.preprocessing import LabelEncoder\n",
    "import pandas as pd\n",
    "\n",
    "# Create a sample dataset\n",
    "data = {'Color': ['red', 'green', 'blue', 'red', 'green', 'blue'],\n",
    "        'Size': ['small', 'medium', 'large', 'small', 'medium', 'large'],\n",
    "        'Material': ['wood', 'metal', 'plastic', 'wood', 'metal', 'plastic']}\n",
    "df = pd.DataFrame(data)\n",
    "\n",
    "# Initialize the LabelEncoder\n",
    "le = LabelEncoder()\n",
    "\n",
    "# Apply label encoding on the categorical variables\n",
    "df['Color_encoded'] = le.fit_transform(df['Color'])\n",
    "df['Size_encoded'] = le.fit_transform(df['Size'])\n",
    "df['Material_encoded'] = le.fit_transform(df['Material'])\n",
    "\n",
    "# Show the encoded dataset\n",
    "df"
   ]
  },
  {
   "attachments": {},
   "cell_type": "markdown",
   "metadata": {},
   "source": [
    "- The LabelEncoder encodes each category of the categorical variables with a unique integer. In this example, the 'Color' variable is encoded as 0, 1, and 2, representing 'blue', 'green', and 'red' respectively. The 'Size' variable is encoded as 0, 1, and 2, representing 'large', 'medium', and 'small' respectively. The 'Material' variable is encoded as 0, 1, and 2, representing 'metal', 'plastic', and 'wood' respectively.\n",
    "#\n",
    "- The encoded variables are added to the original dataset as new columns with the suffix '_encoded'. Note that we have initialized the LabelEncoder for each variable separately. This is because each variable has its own set of unique categories, and we want to ensure that each category is encoded consistently across the dataset.\n",
    "#\n",
    "- Label encoding is a simple and effective method of converting categorical variables into numerical form that can be used as input to a machine learning model. However, it is important to note that label encoding assumes that there is an ordinal relationship between the categories, which may not always be true. In such cases, other encoding techniques such as one-hot encoding or target encoding may be more appropriate."
   ]
  },
  {
   "attachments": {},
   "cell_type": "markdown",
   "metadata": {},
   "source": [
    "#### Q5. Calculate the covariance matrix for the following variables in a dataset: Age, Income, and Education level. Interpret the results."
   ]
  },
  {
   "cell_type": "code",
   "execution_count": 2,
   "metadata": {},
   "outputs": [
    {
     "name": "stdout",
     "output_type": "stream",
     "text": [
      "[[ 9.65679128e+01  2.73852232e+03 -2.58631438e-01]\n",
      " [ 2.73852232e+03  1.07565451e+08  6.12453854e+02]\n",
      " [-2.58631438e-01  6.12453854e+02  6.05024965e+00]]\n"
     ]
    }
   ],
   "source": [
    "import numpy as np\n",
    "import pandas as pd\n",
    "\n",
    "# Create a sample dataset\n",
    "age = np.random.normal(40, 10, 100)\n",
    "income = np.random.normal(50000, 10000, 100)\n",
    "education = np.random.normal(12, 2, 100)\n",
    "df = pd.DataFrame({'Age': age, 'Income': income, 'Education': education})\n",
    "\n",
    "# Calculate the covariance matrix\n",
    "cov_matrix = np.cov(df.T)\n",
    "\n",
    "# Show the covariance matrix\n",
    "print(cov_matrix)\n"
   ]
  },
  {
   "attachments": {},
   "cell_type": "markdown",
   "metadata": {},
   "source": [
    "#### Q6. You are working on a machine learning project with a dataset containing several categorical variables, including \"Gender\" (Male/Female), \"Education Level\" (High School/Bachelor's/Master's/PhD), and \"Employment Status\" (Unemployed/Part-Time/Full-Time). Which encoding method would you use for each variable, and why?"
   ]
  },
  {
   "attachments": {},
   "cell_type": "markdown",
   "metadata": {},
   "source": [
    "- For the categorical variable \"Gender\" (Male/Female), I would use binary encoding, as there are only two categories. Binary encoding will create a new feature with values 0 or 1 representing the presence or absence of the category.\n",
    "- In this case, we could represent \"Male\" as 0 and \"Female\" as 1.\n",
    "#\n",
    "- For the categorical variable \"Education Level\" (High School/Bachelor's/Master's/PhD), I would use ordinal encoding, as there is an inherent order to the categories. Ordinal encoding will replace each category with a numerical value that reflects its position in the ordering of the categories.\n",
    "- In this case, we could assign \"High School\" a value of 1, \"Bachelor's\" a value of 2, \"Master's\" a value of 3, and \"PhD\" a value of 4.\n",
    "#\n",
    "- For the categorical variable \"Employment Status\" (Unemployed/Part-Time/Full-Time), I would use one-hot encoding, as there is no inherent order to the categories. One-hot encoding will create a new binary feature for each category, where a value of 1 indicates the presence of the category and a value of 0 indicates the absence.\n",
    "- In this case, we would create three new binary features, one for each category.\n",
    "#\n",
    "- Note that the choice of encoding method may also depend on the specific machine learning algorithm being used and the particular characteristics of the dataset."
   ]
  },
  {
   "attachments": {},
   "cell_type": "markdown",
   "metadata": {},
   "source": [
    "#### Q7. You are analyzing a dataset with two continuous variables, \"Temperature\" and \"Humidity\", and two categorical variables, \"Weather Condition\" (Sunny/Cloudy/Rainy) and \"Wind Direction\" (North/South/East/West). Calculate the covariance between each pair of variables and interpret the results."
   ]
  },
  {
   "cell_type": "code",
   "execution_count": 3,
   "metadata": {},
   "outputs": [
    {
     "name": "stdout",
     "output_type": "stream",
     "text": [
      "Covariance between Temperature and Humidity:\n",
      " [[20.3409078  -3.47251993]\n",
      " [-3.47251993 83.67252791]]\n",
      "Covariance between Weather Condition and Wind Direction:\n",
      " [[0.15151515 0.36363636 0.18181818 0.3030303 ]\n",
      " [0.15384615 0.23076923 0.42307692 0.19230769]\n",
      " [0.29268293 0.19512195 0.26829268 0.24390244]]\n"
     ]
    }
   ],
   "source": [
    "import numpy as np\n",
    "import pandas as pd\n",
    "\n",
    "# Create a sample dataset\n",
    "temperature = np.random.normal(25, 5, 100)\n",
    "humidity = np.random.normal(50, 10, 100)\n",
    "weather_condition = np.random.choice(['Sunny', 'Cloudy', 'Rainy'], 100)\n",
    "wind_direction = np.random.choice(['North', 'South', 'East', 'West'], 100)\n",
    "df = pd.DataFrame({'Temperature': temperature, 'Humidity': humidity, 'Weather Condition': weather_condition, 'Wind Direction': wind_direction})\n",
    "\n",
    "# Calculate the covariance matrix\n",
    "cov_matrix = np.cov(df[['Temperature', 'Humidity']].T)\n",
    "print('Covariance between Temperature and Humidity:\\n', cov_matrix)\n",
    "\n",
    "cov_matrix = pd.crosstab(df['Weather Condition'], df['Wind Direction'], normalize='index').values\n",
    "print('Covariance between Weather Condition and Wind Direction:\\n', cov_matrix)"
   ]
  }
 ],
 "metadata": {
  "kernelspec": {
   "display_name": "Python 3",
   "language": "python",
   "name": "python3"
  },
  "language_info": {
   "codemirror_mode": {
    "name": "ipython",
    "version": 3
   },
   "file_extension": ".py",
   "mimetype": "text/x-python",
   "name": "python",
   "nbconvert_exporter": "python",
   "pygments_lexer": "ipython3",
   "version": "3.10.10"
  },
  "orig_nbformat": 4
 },
 "nbformat": 4,
 "nbformat_minor": 2
}
